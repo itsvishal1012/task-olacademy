{
 "cells": [
  {
   "cell_type": "markdown",
   "id": "90736a13-f18c-43b4-823a-7c955eee2920",
   "metadata": {},
   "source": [
    "Let's start by analyzing the raw data. I'll check for:\n",
    "\n",
    "Missing values\n",
    "Incorrect formatting (e.g., inconsistent phone numbers, addresses, or ratings)\n",
    "Duplicates\n",
    "Unnecessary columns\n",
    "I'll process the file now."
   ]
  },
  {
   "cell_type": "code",
   "execution_count": 1,
   "id": "ce793f4d-9740-4bfb-a642-269b88bb322f",
   "metadata": {},
   "outputs": [
    {
     "name": "stdout",
     "output_type": "stream",
     "text": [
      "<class 'pandas.core.frame.DataFrame'>\n",
      "RangeIndex: 3199 entries, 0 to 3198\n",
      "Data columns (total 5 columns):\n",
      " #   Column  Non-Null Count  Dtype  \n",
      "---  ------  --------------  -----  \n",
      " 0   Name    3199 non-null   object \n",
      " 1   Food    3199 non-null   object \n",
      " 2   Street  3199 non-null   object \n",
      " 3   Phone   3199 non-null   object \n",
      " 4   Rating  3199 non-null   float64\n",
      "dtypes: float64(1), object(4)\n",
      "memory usage: 125.1+ KB\n"
     ]
    },
    {
     "data": {
      "text/plain": [
       "(None,\n",
       "                   Name   Food                      Street            Phone  \\\n",
       " 0              Unknown  Salad           Yonge St, Toronto  +1 919-344-3561   \n",
       " 1      The Black Briik  Sushi  Bloor Street West, Toronto  +1 907-190-6640   \n",
       " 2    Prague Restaurant    BBQ           Yonge St, Toronto  +1 899-455-5080   \n",
       " 3               Pi Co.  pizza         College St, Toronto  +1 840-290-9973   \n",
       " 4  Prime Doner Shwarma  Tacos     Spadina Avenue, Toronto  +1 864-238-7803   \n",
       " \n",
       "    Rating  \n",
       " 0     2.7  \n",
       " 1     1.6  \n",
       " 2     4.1  \n",
       " 3     2.7  \n",
       " 4     4.7  )"
      ]
     },
     "execution_count": 1,
     "metadata": {},
     "output_type": "execute_result"
    }
   ],
   "source": [
    "import pandas as pd\n",
    "\n",
    "# Load the raw data file\n",
    "file_path = r\"C:\\Users\\visha\\OneDrive\\Desktop\\restaurants raw data.csv\"\n",
    "df = pd.read_csv(file_path)\n",
    "\n",
    "# Display basic info and first few rows\n",
    "df.info(), df.head()\n"
   ]
  },
  {
   "cell_type": "markdown",
   "id": "6e3aedeb-c17d-4511-81e9-087bece0bc36",
   "metadata": {},
   "source": [
    "Data Overview:\n",
    "Total Entries: 3,199 restaurants\n",
    "Columns:\n",
    "Name: Restaurant name (some values are \"Unknown\", which needs fixing)\n",
    "Food: Type of cuisine (all values are filled)\n",
    "Street: Street name (some might need corrections)\n",
    "Phone: Phone numbers (need validation)\n",
    "Rating: Restaurant rating (format looks correct)\n",
    "Cleaning Steps:\n",
    "Fix \"Unknown\" Names\n",
    "\n",
    "Replace \"Unknown\" with \"Unnamed Restaurant\" or use the street name as a fallback.\n",
    "Validate Phone Numbers\n",
    "\n",
    "Ensure they follow the format: +1 XXX-XXX-XXXX\n",
    "Remove any invalid or missing numbers.\n",
    "Normalize Street Names\n",
    "\n",
    "Standardize naming (e.g., convert \"Bloor Street West\" to \"Bloor St\").\n",
    "Handle Ratings\n",
    "\n",
    "Ensure ratings are between 1.0 and 5.0.\n",
    "Round ratings to 1 decimal place (if needed).\n",
    "Remove Duplicates\n",
    "\n",
    "Identify and drop any duplicate restaurant entries.\n",
    "I'll now clean the data accordingly. "
   ]
  },
  {
   "cell_type": "code",
   "execution_count": 2,
   "id": "154f79e0-5c8d-45eb-b04d-f4bc4f4e2e10",
   "metadata": {},
   "outputs": [
    {
     "name": "stdout",
     "output_type": "stream",
     "text": [
      "<class 'pandas.core.frame.DataFrame'>\n",
      "Index: 3097 entries, 0 to 3198\n",
      "Data columns (total 5 columns):\n",
      " #   Column  Non-Null Count  Dtype  \n",
      "---  ------  --------------  -----  \n",
      " 0   Name    3097 non-null   object \n",
      " 1   Food    3097 non-null   object \n",
      " 2   Street  3097 non-null   object \n",
      " 3   Phone   3097 non-null   object \n",
      " 4   Rating  3097 non-null   float64\n",
      "dtypes: float64(1), object(4)\n",
      "memory usage: 145.2+ KB\n"
     ]
    },
    {
     "data": {
      "text/plain": [
       "(None,\n",
       "                   Name   Food                Street            Phone  Rating\n",
       " 0   Unnamed Restaurant  Salad     Yonge St, Toronto  +1 919-344-3561     2.7\n",
       " 1      The Black Briik  Sushi   Bloor St W, Toronto  +1 907-190-6640     1.6\n",
       " 2    Prague Restaurant    BBQ     Yonge St, Toronto  +1 899-455-5080     4.1\n",
       " 3               Pi Co.  pizza   College St, Toronto  +1 840-290-9973     2.7\n",
       " 4  Prime Doner Shwarma  Tacos  Spadina Ave, Toronto  +1 864-238-7803     4.7)"
      ]
     },
     "execution_count": 2,
     "metadata": {},
     "output_type": "execute_result"
    }
   ],
   "source": [
    "# Cleaning Process\n",
    "\n",
    "# 1. Replace \"Unknown\" Names with \"Unnamed Restaurant\"\n",
    "df[\"Name\"] = df[\"Name\"].replace(\"Unknown\", \"Unnamed Restaurant\")\n",
    "\n",
    "# 2. Validate & Format Phone Numbers (Ensuring correct format)\n",
    "import re\n",
    "\n",
    "def validate_phone(phone):\n",
    "    pattern = r\"\\+1 \\d{3}-\\d{3}-\\d{4}\"  # Expected format: +1 XXX-XXX-XXXX\n",
    "    return phone if re.match(pattern, phone) else \"Invalid\"\n",
    "\n",
    "df[\"Phone\"] = df[\"Phone\"].apply(validate_phone)\n",
    "\n",
    "# 3. Standardize Street Names (shorten common street words)\n",
    "street_replacements = {\n",
    "    \"Street\": \"St\",\n",
    "    \"Avenue\": \"Ave\",\n",
    "    \"Road\": \"Rd\",\n",
    "    \"Boulevard\": \"Blvd\",\n",
    "    \"Drive\": \"Dr\",\n",
    "    \"West\": \"W\",\n",
    "    \"East\": \"E\",\n",
    "    \"North\": \"N\",\n",
    "    \"South\": \"S\"\n",
    "}\n",
    "\n",
    "for key, value in street_replacements.items():\n",
    "    df[\"Street\"] = df[\"Street\"].str.replace(key, value, regex=True)\n",
    "\n",
    "# 4. Ensure Ratings are within valid range (1.0 - 5.0) and round to 1 decimal\n",
    "df[\"Rating\"] = df[\"Rating\"].clip(1.0, 5.0).round(1)\n",
    "\n",
    "# 5. Remove Duplicate Entries (based on Name and Address)\n",
    "df.drop_duplicates(subset=[\"Name\", \"Street\"], keep=\"first\", inplace=True)\n",
    "\n",
    "# Display cleaned data overview\n",
    "df.info(), df.head()\n"
   ]
  },
  {
   "cell_type": "markdown",
   "id": "2c9fd27f-9aeb-4030-9583-e920ab03bea5",
   "metadata": {},
   "source": [
    "Cleaned Data Overview:\n",
    "Total Entries: ✅ 3,097 (After removing duplicates)\n",
    "Key Fixes:\n",
    "Restaurant Names: \"Unknown\" replaced with \"Unnamed Restaurant\".\n",
    "Phone Numbers: Invalid ones marked as \"Invalid\", others validated.\n",
    "Street Names: Standardized (e.g., \"Bloor Street West\" → \"Bloor St W\").\n",
    "Ratings: Ensured they are between 1.0 - 5.0 and rounded to 1 decimal place.\n",
    "Duplicates Removed: Entries with the same name and address were removed.\n",
    "Now, I'll save the cleaned data so you can use it."
   ]
  },
  {
   "cell_type": "code",
   "execution_count": 4,
   "id": "7182f014-b1a4-4b78-a2e0-5f1ea4ed5a88",
   "metadata": {},
   "outputs": [],
   "source": [
    "import os\n",
    "\n",
    "# Create directory if it doesn't exist\n",
    "os.makedirs(\"/mnt/data\", exist_ok=True)\n",
    "\n",
    "# Save the cleaned data to a new CSV file\n",
    "cleaned_file_path = \"/mnt/data/restaurants_cleaned.csv\"\n",
    "df.to_csv(cleaned_file_path, index=False)\n"
   ]
  },
  {
   "cell_type": "code",
   "execution_count": 5,
   "id": "86d2e893-5dc9-4fee-9a7a-ddc88c5a6534",
   "metadata": {},
   "outputs": [],
   "source": [
    "cleaned_file_path = \"restaurants_cleaned.csv\"\n",
    "df.to_csv(cleaned_file_path, index=False)\n"
   ]
  },
  {
   "cell_type": "markdown",
   "id": "7fc83c83-6fbf-442b-a3a4-66d43be1c949",
   "metadata": {},
   "source": [
    "Now, this dataset is structured, validated, and ready for analysis or visualization. "
   ]
  }
 ],
 "metadata": {
  "kernelspec": {
   "display_name": "Python 3 (ipykernel)",
   "language": "python",
   "name": "python3"
  },
  "language_info": {
   "codemirror_mode": {
    "name": "ipython",
    "version": 3
   },
   "file_extension": ".py",
   "mimetype": "text/x-python",
   "name": "python",
   "nbconvert_exporter": "python",
   "pygments_lexer": "ipython3",
   "version": "3.13.2"
  }
 },
 "nbformat": 4,
 "nbformat_minor": 5
}
